{
  "cells": [
    {
      "cell_type": "code",
      "execution_count": null,
      "metadata": {
        "id": "8PtaOSbY7lUQ"
      },
      "outputs": [],
      "source": [
        "import numpy as np\n",
        "import pandas as pd\n",
        " \n",
        "x_train=pd.read_csv(\"/content/drive/MyDrive/paranuvem/train1\")\n",
        "x_test= pd.read_csv(\"/content/drive/MyDrive/paranuvem/test1\")\n",
        "y_train=pd.read_csv(\"/content/drive/MyDrive/bost/ytr.csv\")\n",
        "y_test=pd.read_csv(\"/content/drive/MyDrive/bost/yts.csv\")"
      ]
    },
    {
      "cell_type": "code",
      "source": [
        "id=x_test[\"Id\"]\n",
        "x_train=x_train.drop(columns=[\"Unnamed..0\",\"Id\",\"Unnamed: 0\",\"SalePrice\"])\n",
        "x_test=x_test.drop(columns=[\"Unnamed..0\",\"Id\",\"Unnamed: 0\"])\n",
        "\n",
        "y_train=y_train[\"x\"]\n",
        "y_test=y_test[\"SalePrice\"]"
      ],
      "metadata": {
        "id": "e-6KKlpj3eGy"
      },
      "execution_count": null,
      "outputs": []
    },
    {
      "cell_type": "code",
      "source": [
        "from catboost import CatBoostClassifier"
      ],
      "metadata": {
        "id": "Lq55LeHEiaSr"
      },
      "execution_count": null,
      "outputs": []
    },
    {
      "cell_type": "code",
      "source": [
        "\n",
        "model =CatBoostClassifier (iterations=50,\n",
        "                           learning_rate=0.1,random_state=45,gpu_cat_features_storage=True)\n",
        "\n",
        "model.fit( x_train, y_train)"
      ],
      "metadata": {
        "colab": {
          "base_uri": "https://localhost:8080/"
        },
        "id": "vka5KPHfpo-o",
        "outputId": "fd96ae08-d164-4e9b-e890-1a9c717548e2"
      },
      "execution_count": null,
      "outputs": [
        {
          "output_type": "stream",
          "name": "stdout",
          "text": [
            "0:\tlearn: 6.4538393\ttotal: 9.37s\tremaining: 7m 39s\n",
            "1:\tlearn: 6.4119491\ttotal: 18.3s\tremaining: 7m 20s\n",
            "2:\tlearn: 6.3700351\ttotal: 25.4s\tremaining: 6m 38s\n",
            "3:\tlearn: 6.3274780\ttotal: 29.9s\tremaining: 5m 43s\n",
            "4:\tlearn: 6.2895981\ttotal: 34.8s\tremaining: 5m 13s\n",
            "5:\tlearn: 6.2524966\ttotal: 39.7s\tremaining: 4m 51s\n",
            "6:\tlearn: 6.2151779\ttotal: 44.2s\tremaining: 4m 31s\n",
            "7:\tlearn: 6.1744064\ttotal: 48.8s\tremaining: 4m 15s\n",
            "8:\tlearn: 6.1343007\ttotal: 53.5s\tremaining: 4m 3s\n",
            "9:\tlearn: 6.0979647\ttotal: 58.5s\tremaining: 3m 54s\n",
            "10:\tlearn: 6.0568379\ttotal: 1m 3s\tremaining: 3m 43s\n",
            "11:\tlearn: 6.0237329\ttotal: 1m 7s\tremaining: 3m 34s\n",
            "12:\tlearn: 5.9832096\ttotal: 1m 12s\tremaining: 3m 25s\n",
            "13:\tlearn: 5.9472882\ttotal: 1m 17s\tremaining: 3m 18s\n",
            "14:\tlearn: 5.9115596\ttotal: 1m 21s\tremaining: 3m 10s\n",
            "15:\tlearn: 5.8763508\ttotal: 1m 26s\tremaining: 3m 3s\n",
            "16:\tlearn: 5.8382554\ttotal: 1m 30s\tremaining: 2m 56s\n",
            "17:\tlearn: 5.8023677\ttotal: 1m 35s\tremaining: 2m 49s\n",
            "18:\tlearn: 5.7688363\ttotal: 1m 39s\tremaining: 2m 42s\n",
            "19:\tlearn: 5.7347226\ttotal: 1m 44s\tremaining: 2m 36s\n",
            "20:\tlearn: 5.7026661\ttotal: 1m 49s\tremaining: 2m 30s\n",
            "21:\tlearn: 5.6695169\ttotal: 1m 53s\tremaining: 2m 24s\n",
            "22:\tlearn: 5.6348257\ttotal: 1m 58s\tremaining: 2m 18s\n",
            "23:\tlearn: 5.6021960\ttotal: 2m 4s\tremaining: 2m 14s\n",
            "24:\tlearn: 5.5695768\ttotal: 2m 9s\tremaining: 2m 9s\n",
            "25:\tlearn: 5.5371022\ttotal: 2m 14s\tremaining: 2m 3s\n",
            "26:\tlearn: 5.5047750\ttotal: 2m 18s\tremaining: 1m 58s\n",
            "27:\tlearn: 5.4720703\ttotal: 2m 23s\tremaining: 1m 52s\n",
            "28:\tlearn: 5.4399475\ttotal: 2m 28s\tremaining: 1m 47s\n",
            "29:\tlearn: 5.4092164\ttotal: 2m 32s\tremaining: 1m 41s\n",
            "30:\tlearn: 5.3771041\ttotal: 2m 37s\tremaining: 1m 36s\n",
            "31:\tlearn: 5.3470854\ttotal: 2m 42s\tremaining: 1m 31s\n",
            "32:\tlearn: 5.3151484\ttotal: 2m 46s\tremaining: 1m 25s\n",
            "33:\tlearn: 5.2838556\ttotal: 2m 51s\tremaining: 1m 20s\n",
            "34:\tlearn: 5.2555543\ttotal: 2m 56s\tremaining: 1m 15s\n",
            "35:\tlearn: 5.2249444\ttotal: 3m 1s\tremaining: 1m 10s\n",
            "36:\tlearn: 5.1947889\ttotal: 3m 5s\tremaining: 1m 5s\n",
            "37:\tlearn: 5.1650336\ttotal: 3m 10s\tremaining: 1m\n",
            "38:\tlearn: 5.1355493\ttotal: 3m 15s\tremaining: 55s\n",
            "39:\tlearn: 5.1054233\ttotal: 3m 19s\tremaining: 50s\n",
            "40:\tlearn: 5.0777948\ttotal: 3m 24s\tremaining: 44.9s\n",
            "41:\tlearn: 5.0453993\ttotal: 3m 29s\tremaining: 39.9s\n",
            "42:\tlearn: 5.0132097\ttotal: 3m 34s\tremaining: 34.9s\n",
            "43:\tlearn: 4.9862256\ttotal: 3m 39s\tremaining: 29.9s\n",
            "44:\tlearn: 4.9597401\ttotal: 3m 43s\tremaining: 24.8s\n",
            "45:\tlearn: 4.9288909\ttotal: 3m 48s\tremaining: 19.9s\n",
            "46:\tlearn: 4.9039032\ttotal: 3m 53s\tremaining: 14.9s\n",
            "47:\tlearn: 4.8752723\ttotal: 3m 58s\tremaining: 9.93s\n",
            "48:\tlearn: 4.8455875\ttotal: 4m 3s\tremaining: 4.96s\n",
            "49:\tlearn: 4.8154425\ttotal: 4m 7s\tremaining: 0us\n"
          ]
        },
        {
          "output_type": "execute_result",
          "data": {
            "text/plain": [
              "<catboost.core.CatBoostClassifier at 0x7f2c618a95d0>"
            ]
          },
          "metadata": {},
          "execution_count": 22
        }
      ]
    },
    {
      "cell_type": "code",
      "source": [
        "catpre=model.predict(x_test)"
      ],
      "metadata": {
        "id": "s6VBn2rurYtw"
      },
      "execution_count": null,
      "outputs": []
    },
    {
      "cell_type": "code",
      "source": [
        "mean_absolute_error(y_test,catpre)"
      ],
      "metadata": {
        "colab": {
          "base_uri": "https://localhost:8080/"
        },
        "id": "MWM9GnYAOsYL",
        "outputId": "8b8f56b6-6a2c-45f5-cf9e-dee8a9197a36"
      },
      "execution_count": null,
      "outputs": [
        {
          "output_type": "execute_result",
          "data": {
            "text/plain": [
              "37412.54189722738"
            ]
          },
          "metadata": {},
          "execution_count": 26
        }
      ]
    }
  ],
  "metadata": {
    "colab": {
      "name": "cat",
      "provenance": []
    },
    "kernelspec": {
      "display_name": "Python 3",
      "name": "python3"
    },
    "language_info": {
      "name": "python"
    }
  },
  "nbformat": 4,
  "nbformat_minor": 0
}